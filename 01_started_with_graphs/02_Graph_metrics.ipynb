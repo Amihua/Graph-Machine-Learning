{
 "cells": [
  {
   "cell_type": "code",
   "execution_count": null,
   "metadata": {
    "id": "uKraKcP_lyqO"
   },
   "outputs": [],
   "source": [
    "import networkx as nx\n",
    "import matplotlib.pyplot as plt\n",
    "import pandas as pd\n",
    "\n",
    "default_edge_color = 'gray'\n",
    "default_node_color = '#407cc9'\n",
    "enhanced_node_color = '#f5b042'\n",
    "enhanced_edge_color = '#cc2f04'"
   ]
  },
  {
   "cell_type": "markdown",
   "metadata": {
    "id": "ci5ithlNjeCM"
   },
   "source": [
    "## Chapter 2.2: Graph properties"
   ]
  },
  {
   "cell_type": "code",
   "execution_count": null,
   "metadata": {
    "id": "rNOJ_ofKpb94"
   },
   "outputs": [],
   "source": [
    "# draw a simple graph\n",
    "def draw_graph(G, node_names={}, filename=None, node_size=50):\n",
    "    pos_nodes = nx.spring_layout(G)\n",
    "    nx.draw(G, pos_nodes, with_labels=False, node_size=node_size, edge_color='gray')\n",
    "    \n",
    "    pos_attrs = {}\n",
    "    for node, coords in pos_nodes.items():\n",
    "        pos_attrs[node] = (coords[0], coords[1] + 0.08)\n",
    "        \n",
    "    nx.draw_networkx_labels(G, pos_attrs, labels=node_names, font_family='serif')\n",
    "    \n",
    "    plt.axis('off')\n",
    "    axis = plt.gca()\n",
    "    axis.set_xlim([1.2*x for x in axis.get_xlim()])\n",
    "    axis.set_ylim([1.2*y for y in axis.get_ylim()])\n",
    "    \n",
    "    if filename:\n",
    "        plt.savefig(filename, format=\"png\")\n",
    "\n",
    "\n",
    "# draw enhanced path on the graph\n",
    "def draw_enhanced_path(G, path_to_enhance, node_names={}, filename=None):\n",
    "    path_edges = list(zip(path,path[1:]))\n",
    "    pos_nodes = nx.spring_layout(G)\n",
    "\n",
    "    plt.figure(figsize=(5,5),dpi=300)\n",
    "    pos_nodes = nx.spring_layout(G)\n",
    "    nx.draw(G, pos_nodes, with_labels=False, node_size=50, edge_color='gray')\n",
    "    \n",
    "    pos_attrs = {}\n",
    "    for node, coords in pos_nodes.items():\n",
    "        pos_attrs[node] = (coords[0], coords[1] + 0.08)\n",
    "        \n",
    "    nx.draw_networkx_labels(G, pos_attrs, labels=node_names, font_family='serif')\n",
    "    nx.draw_networkx_edges(G,pos_nodes,edgelist=path_edges, edge_color='#cc2f04', style='dashed', width=2.0)\n",
    "    \n",
    "    plt.axis('off')\n",
    "    axis = plt.gca()\n",
    "    axis.set_xlim([1.2*x for x in axis.get_xlim()])\n",
    "    axis.set_ylim([1.2*y for y in axis.get_ylim()])\n",
    "    \n",
    "    if filename:\n",
    "        plt.savefig(filename, format=\"png\")"
   ]
  },
  {
   "cell_type": "markdown",
   "metadata": {
    "id": "iXiFWQ1juLmW"
   },
   "source": [
    "### Shortest path"
   ]
  },
  {
   "cell_type": "code",
   "execution_count": null,
   "metadata": {
    "id": "pnrTW0IDl9ch"
   },
   "outputs": [],
   "source": [
    "G = nx.Graph()\n",
    "nodes = {1:'Dublin',2:'Paris',3:'Milan',4:'Rome',5:'Naples',6:'Moscow',7:'Tokyo'}\n",
    "G.add_nodes_from(nodes.keys())\n",
    "G.add_edges_from([(1,2),(1,3),(2,3),(3,4),(4,5),(5,6),(6,7),(7,5)])"
   ]
  },
  {
   "cell_type": "code",
   "execution_count": null,
   "metadata": {
    "colab": {
     "base_uri": "https://localhost:8080/",
     "height": 34
    },
    "id": "dGxxPrvZp_Ge",
    "outputId": "523e5744-a570-4ee6-a2cb-4dd22458805e"
   },
   "outputs": [],
   "source": [
    "path = nx.shortest_path(G,source=1,target=7)\n",
    "print(path)"
   ]
  },
  {
   "cell_type": "code",
   "execution_count": null,
   "metadata": {
    "colab": {
     "base_uri": "https://localhost:8080/",
     "height": 874
    },
    "id": "dAdKBv_HjvmM",
    "outputId": "fe53026a-29ad-48a2-9914-43c6da4da20f"
   },
   "outputs": [],
   "source": [
    "draw_enhanced_path(G, path, node_names=nodes,filename='shortest_path.png')"
   ]
  },
  {
   "cell_type": "markdown",
   "metadata": {
    "id": "dBg6m9ZATaJZ"
   },
   "source": [
    "### Characteristic path lenght"
   ]
  },
  {
   "cell_type": "code",
   "execution_count": null,
   "metadata": {
    "colab": {
     "base_uri": "https://localhost:8080/",
     "height": 34
    },
    "id": "DJYfa7CtTZhr",
    "outputId": "03056ea9-7c7c-470b-e166-70d76ec990f0"
   },
   "outputs": [],
   "source": [
    "nx.average_shortest_path_length(G)"
   ]
  },
  {
   "cell_type": "markdown",
   "metadata": {
    "id": "uC7OadvGulnu"
   },
   "source": [
    "### Efficiency"
   ]
  },
  {
   "cell_type": "code",
   "execution_count": null,
   "metadata": {
    "colab": {
     "base_uri": "https://localhost:8080/"
    },
    "id": "GqjWanR1orDB",
    "outputId": "58b955a2-4f71-473b-a04a-3a08722b6929"
   },
   "outputs": [],
   "source": [
    "G = nx.Graph()\n",
    "nodes = {1:'Dublin',2:'Paris',3:'Milan',4:'Rome',5:'Naples',6:'Moscow',7:'Tokyo'}\n",
    "G.add_nodes_from(nodes.keys())\n",
    "G.add_edges_from([(1,2),(1,3),(2,3),(3,4),(4,5),(5,6),(6,7),(7,5)])\n",
    "\n",
    "print(nx.global_efficiency(G))\n",
    "print(nx.local_efficiency(G))"
   ]
  },
  {
   "cell_type": "code",
   "execution_count": null,
   "metadata": {
    "colab": {
     "base_uri": "https://localhost:8080/",
     "height": 255
    },
    "id": "BKY3H3CsuwH5",
    "outputId": "0bc3d493-9dac-4af3-ffef-834c5b4f8b72"
   },
   "outputs": [],
   "source": [
    "# higher efficiency\n",
    "G = nx.complete_graph(n=7)\n",
    "nodes = {0:'Dublin',1:'Paris',2:'Milan',3:'Rome',4:'Naples',5:'Moscow',6:'Tokyo'}\n",
    "\n",
    "ge = round(nx.global_efficiency(G),2)\n",
    "\n",
    "# place the text box in axes coords\n",
    "ax = plt.gca()\n",
    "ax.text(-.4, -1.3, \"Global Efficiency:{}\".format(ge), fontsize=14, ha='left', va='bottom');\n",
    "\n",
    "draw_graph(G,node_names=nodes,filename='efficiency.png')"
   ]
  },
  {
   "cell_type": "code",
   "execution_count": null,
   "metadata": {
    "colab": {
     "base_uri": "https://localhost:8080/",
     "height": 250
    },
    "id": "rQNK_3WBvi-G",
    "outputId": "dc7abae0-2106-41e7-aa07-cdd1c30108d2"
   },
   "outputs": [],
   "source": [
    "# lower efficiency\n",
    "G = nx.cycle_graph(n=7)\n",
    "nodes = {0:'Dublin',1:'Paris',2:'Milan',3:'Rome',4:'Naples',5:'Moscow',6:'Tokyo'}\n",
    "\n",
    "le = round(nx.global_efficiency(G),2)\n",
    "\n",
    "# place the text box in axes coords\n",
    "ax = plt.gca()\n",
    "ax.text(-.4, -1.3, \"Global Efficiency:{}\".format(le), fontsize=14, ha='left', va='bottom');\n",
    "\n",
    "draw_graph(G, node_names=nodes,filename='less_efficiency.png')"
   ]
  },
  {
   "cell_type": "markdown",
   "metadata": {
    "id": "K2xlwGTQypcZ"
   },
   "source": [
    "### Clustering coefficient"
   ]
  },
  {
   "cell_type": "code",
   "execution_count": null,
   "metadata": {
    "id": "1BuMAkinyt8-"
   },
   "outputs": [],
   "source": [
    "G = nx.Graph()\n",
    "nodes = {1:'Dublin',2:'Paris',3:'Milan',4:'Rome',5:'Naples',6:'Moscow',7:'Tokyo'}\n",
    "G.add_nodes_from(nodes.keys())\n",
    "G.add_edges_from([(1,2),(1,3),(2,3),(3,4),(4,5),(5,6),(6,7),(7,5)])"
   ]
  },
  {
   "cell_type": "code",
   "execution_count": null,
   "metadata": {
    "colab": {
     "base_uri": "https://localhost:8080/",
     "height": 34
    },
    "id": "IKa1VRNnVmkw",
    "outputId": "bc4c0b9f-d1d5-4f4d-b5b1-b1b5d7bedca9"
   },
   "outputs": [],
   "source": [
    "nx.average_clustering(G)"
   ]
  },
  {
   "cell_type": "code",
   "execution_count": null,
   "metadata": {
    "colab": {
     "base_uri": "https://localhost:8080/",
     "height": 136
    },
    "id": "JZ1LQZ6Frq0a",
    "outputId": "f39c2a66-832d-401c-f6e7-f993eaae869b"
   },
   "outputs": [],
   "source": [
    "nx.clustering(G)"
   ]
  },
  {
   "cell_type": "code",
   "execution_count": null,
   "metadata": {
    "colab": {
     "base_uri": "https://localhost:8080/",
     "height": 319
    },
    "id": "lWdp_yD-y0sx",
    "outputId": "eaff0220-a4b1-497e-9137-0e351597f5ac"
   },
   "outputs": [],
   "source": [
    "cc = nx.clustering(G)\n",
    "node_size=[(v + 0.1) * 200 for v in cc.values()]\n",
    "draw_graph(G, node_names=nodes, node_size=node_size,filename='clustering.png')"
   ]
  },
  {
   "cell_type": "markdown",
   "metadata": {
    "id": "Ga57kYOA1h47"
   },
   "source": [
    "### Centrality"
   ]
  },
  {
   "cell_type": "code",
   "execution_count": null,
   "metadata": {
    "id": "VV2e-FNe1kWf"
   },
   "outputs": [],
   "source": [
    "G = nx.Graph()\n",
    "nodes = {1:'Dublin',2:'Paris',3:'Milan',4:'Rome',5:'Naples',6:'Moscow',7:'Tokyo'}\n",
    "G.add_nodes_from(nodes.keys())\n",
    "G.add_edges_from([(1,2),(1,3),(2,3),(3,4),(4,5),(5,6),(6,7),(7,5)])"
   ]
  },
  {
   "cell_type": "code",
   "execution_count": null,
   "metadata": {
    "colab": {
     "base_uri": "https://localhost:8080/"
    },
    "id": "xj38Q2pq0unD",
    "outputId": "be9722b5-1a65-42ac-ea03-36977f3c0d43"
   },
   "outputs": [],
   "source": [
    "nx.degree_centrality(G)"
   ]
  },
  {
   "cell_type": "code",
   "execution_count": null,
   "metadata": {
    "colab": {
     "base_uri": "https://localhost:8080/",
     "height": 382
    },
    "id": "dCuRzRQc1zty",
    "outputId": "99d33686-7884-46eb-c9ed-d7e216352d69"
   },
   "outputs": [],
   "source": [
    "dc = nx.degree_centrality(G)\n",
    "node_size=[(v + 0.01) * 400 for v in dc.values()]\n",
    "draw_graph(G, node_names=nodes, node_size=node_size,filename='deg_centr.png')\n",
    "\n",
    "df = pd.DataFrame(dc,index=['Degree centrality'])\n",
    "df.columns = nodes.values()\n",
    "df"
   ]
  },
  {
   "cell_type": "code",
   "execution_count": null,
   "metadata": {
    "colab": {
     "base_uri": "https://localhost:8080/"
    },
    "id": "deUN9xP900v2",
    "outputId": "a4cc364c-1fd8-4aba-d225-b9090629f208"
   },
   "outputs": [],
   "source": [
    "nx.closeness_centrality(G)"
   ]
  },
  {
   "cell_type": "code",
   "execution_count": null,
   "metadata": {
    "colab": {
     "base_uri": "https://localhost:8080/",
     "height": 382
    },
    "id": "QYqWGlda13Qy",
    "outputId": "d036c7b2-beca-4106-db9e-f07c99122a2a"
   },
   "outputs": [],
   "source": [
    "dc = nx.closeness_centrality(G)\n",
    "node_size=[(v + 0.1) * 400 for v in dc.values()]\n",
    "draw_graph(G, node_names=nodes, node_size=node_size,filename='clos_centr.png')\n",
    "\n",
    "df = pd.DataFrame(dc,index=['Closeness centrality'])\n",
    "df.columns = nodes.values()\n",
    "df"
   ]
  },
  {
   "cell_type": "code",
   "execution_count": null,
   "metadata": {
    "colab": {
     "base_uri": "https://localhost:8080/"
    },
    "id": "ts3sMr0H06-d",
    "outputId": "10acf18b-b17a-4079-d254-ef4c1e0042cf"
   },
   "outputs": [],
   "source": [
    "nx.betweenness_centrality(G)"
   ]
  },
  {
   "cell_type": "code",
   "execution_count": null,
   "metadata": {
    "colab": {
     "base_uri": "https://localhost:8080/",
     "height": 382
    },
    "id": "T29a81GV2PFk",
    "outputId": "1e6e102f-d427-4c0f-9d33-108c03223bb7"
   },
   "outputs": [],
   "source": [
    "dc = nx.betweenness_centrality(G)\n",
    "node_size=[(v + 0.1) * 400 for v in dc.values()]\n",
    "draw_graph(G, node_names=nodes, node_size=node_size,filename='bet_centrality.png')\n",
    "\n",
    "df = pd.DataFrame(dc,index=['Betweenness centrality'])\n",
    "df.columns = nodes.values()\n",
    "df"
   ]
  },
  {
   "cell_type": "markdown",
   "metadata": {
    "id": "8TM-zF2C_OFA"
   },
   "source": [
    "### Assortativity"
   ]
  },
  {
   "cell_type": "code",
   "execution_count": null,
   "metadata": {
    "colab": {
     "base_uri": "https://localhost:8080/",
     "height": 34
    },
    "id": "XXa6_QaTe-Cp",
    "outputId": "3c5089ae-1a96-440d-b385-36ef53ccbc24"
   },
   "outputs": [],
   "source": [
    "nx.degree_pearson_correlation_coefficient(G)"
   ]
  },
  {
   "cell_type": "code",
   "execution_count": null,
   "metadata": {
    "colab": {
     "base_uri": "https://localhost:8080/",
     "height": 319
    },
    "id": "lzZwqxIy2Rek",
    "outputId": "b752fc67-7d58-4d71-e99d-36033e415815"
   },
   "outputs": [],
   "source": [
    "G = nx.Graph()\n",
    "nodes = {1:'user1', 2:'user2', 3:'Football player', 4:'Fahsion blogger', 5:'user3', 6:'user4',\n",
    "         7:'user5', 8:'user6'}\n",
    "G.add_nodes_from(nodes.keys())\n",
    "G.add_edges_from([(1,3),(2,3),(7,3),(3,4),(5,4),(6,4),(8,4)])\n",
    "\n",
    "draw_graph(G, node_names=nodes,filename='assortativity.png')"
   ]
  },
  {
   "cell_type": "code",
   "execution_count": null,
   "metadata": {
    "colab": {
     "base_uri": "https://localhost:8080/",
     "height": 34
    },
    "id": "kY0Jw-j9lON_",
    "outputId": "0b53b25c-031e-4e85-cf30-31f3407169a7"
   },
   "outputs": [],
   "source": [
    "nx.degree_pearson_correlation_coefficient(G)"
   ]
  },
  {
   "cell_type": "markdown",
   "metadata": {
    "id": "RbuH3iI1xn7X"
   },
   "source": [
    "### Modularity"
   ]
  },
  {
   "cell_type": "code",
   "execution_count": null,
   "metadata": {
    "colab": {
     "base_uri": "https://localhost:8080/",
     "height": 51
    },
    "id": "Gt2EzDJM_t8b",
    "outputId": "c1003530-c2b0-46a6-8e46-1794d6385082"
   },
   "outputs": [],
   "source": [
    "import networkx.algorithms.community as nx_comm\n",
    "\n",
    "G = nx.Graph()\n",
    "nodes = {1:'Dublin',2:'Paris',3:'Milan',4:'Rome',5:'Naples',6:'Moscow',7:'Tokyo'}\n",
    "G.add_nodes_from(nodes.keys())\n",
    "G.add_edges_from([(1,2),(1,3),(2,3),(3,4),(4,5),(5,6),(6,7),(7,5)])\n",
    "\n",
    "# partitions can be provided manually\n",
    "print(nx_comm.modularity(G, communities=[{1,2,3,4},{5,6,7}]))\n",
    "\n",
    "# or automatically computed using networkx\n",
    "print(nx_comm.modularity(G, nx_comm.label_propagation_communities(G)))"
   ]
  },
  {
   "cell_type": "markdown",
   "metadata": {
    "id": "DHVDxlT42_TO"
   },
   "source": [
    "### Transitivity"
   ]
  },
  {
   "cell_type": "code",
   "execution_count": null,
   "metadata": {
    "colab": {
     "base_uri": "https://localhost:8080/",
     "height": 34
    },
    "id": "qjT3Zp40y32X",
    "outputId": "44a7badd-b088-48b1-b735-9a7dd0977f52"
   },
   "outputs": [],
   "source": [
    "nx.transitivity(G)"
   ]
  }
 ],
 "metadata": {
  "colab": {
   "collapsed_sections": [],
   "name": "graph_metrics_packt.ipynb",
   "provenance": [],
   "toc_visible": true
  },
  "kernelspec": {
   "display_name": "Python 3",
   "language": "python",
   "name": "python3"
  },
  "language_info": {
   "codemirror_mode": {
    "name": "ipython",
    "version": 3
   },
   "file_extension": ".py",
   "mimetype": "text/x-python",
   "name": "python",
   "nbconvert_exporter": "python",
   "pygments_lexer": "ipython3",
   "version": "3.6.8"
  }
 },
 "nbformat": 4,
 "nbformat_minor": 1
}
