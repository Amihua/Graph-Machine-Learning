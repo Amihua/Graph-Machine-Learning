{
 "cells": [
  {
   "cell_type": "markdown",
   "metadata": {
    "id": "NBVKcDWHeGoR"
   },
   "source": [
    "# Supervised graph representation learning using Graph ConvNet"
   ]
  },
  {
   "cell_type": "markdown",
   "metadata": {
    "id": "lb6FvAQ3eUNs"
   },
   "source": [
    "In this notebook we will be performing supervised graph representation learning using Deep Graph ConvNet as encoder.\n",
    "\n",
    "The model embeds a graph by using stacked Graph ConvNet layers"
   ]
  },
  {
   "cell_type": "markdown",
   "metadata": {
    "id": "VHU1UGiHfw1e"
   },
   "source": [
    "In this demo, we will be using the PROTEINS dataset, already integrated in StellarGraph"
   ]
  },
  {
   "cell_type": "code",
   "execution_count": null,
   "metadata": {
    "colab": {
     "base_uri": "https://localhost:8080/",
     "height": 51
    },
    "executionInfo": {
     "elapsed": 7415,
     "status": "ok",
     "timestamp": 1611482496336,
     "user": {
      "displayName": "Aldo Marzullo",
      "photoUrl": "https://lh3.googleusercontent.com/a-/AOh14GjBD_mZewcZ8LCqkD20Nku4DR5OCGFqYkxawoUjgg=s64",
      "userId": "17245895923239449231"
     },
     "user_tz": -60
    },
    "id": "_8SDtHy1PfNx",
    "outputId": "8dfa1003-d343-4199-f5c8-de2e28db2cea"
   },
   "outputs": [],
   "source": [
    "import pandas as pd\n",
    "from stellargraph import datasets\n",
    "from IPython.display import display, HTML\n",
    "\n",
    "dataset = datasets.PROTEINS()\n",
    "display(HTML(dataset.description))\n",
    "graphs, graph_labels = dataset.load()\n",
    "\n",
    "# necessary for converting default string labels to int\n",
    "graph_labels = pd.get_dummies(graph_labels, drop_first=True)"
   ]
  },
  {
   "cell_type": "markdown",
   "metadata": {
    "id": "_uEUzYBIM6cK"
   },
   "source": [
    "StellarGraph we are using for building the model, uses tf.Keras as backend. According to its specific, we need a data generator for feeding the model. For supervised graph classification, we create an instance of StellarGraph's PaddedGraphGenerator class. This generator supplies the features arrays and the adjacency matrices to a mini-batch Keras graph classification model. Differences in the number of nodes are resolved by padding each batch of features and adjacency matrices, and supplying a boolean mask indicating which are valid and which are padding."
   ]
  },
  {
   "cell_type": "code",
   "execution_count": null,
   "metadata": {
    "executionInfo": {
     "elapsed": 782,
     "status": "ok",
     "timestamp": 1611483734109,
     "user": {
      "displayName": "Aldo Marzullo",
      "photoUrl": "https://lh3.googleusercontent.com/a-/AOh14GjBD_mZewcZ8LCqkD20Nku4DR5OCGFqYkxawoUjgg=s64",
      "userId": "17245895923239449231"
     },
     "user_tz": -60
    },
    "id": "i34QgSA_P_sM"
   },
   "outputs": [],
   "source": [
    "from stellargraph.mapper import PaddedGraphGenerator\n",
    "generator = PaddedGraphGenerator(graphs=graphs)"
   ]
  },
  {
   "cell_type": "markdown",
   "metadata": {
    "id": "YepZYuk_NWWT"
   },
   "source": [
    "Now we are ready for actually create the model. The GCN layers will be created and stacked togheter through StellarGraph's utility function. This _backbone_ will be then concateneted to 1D Convolutional layers and Fully connected layers using tf.Keras"
   ]
  },
  {
   "cell_type": "code",
   "execution_count": null,
   "metadata": {
    "colab": {
     "base_uri": "https://localhost:8080/"
    },
    "executionInfo": {
     "elapsed": 1304,
     "status": "ok",
     "timestamp": 1611483736026,
     "user": {
      "displayName": "Aldo Marzullo",
      "photoUrl": "https://lh3.googleusercontent.com/a-/AOh14GjBD_mZewcZ8LCqkD20Nku4DR5OCGFqYkxawoUjgg=s64",
      "userId": "17245895923239449231"
     },
     "user_tz": -60
    },
    "id": "qF8DHIalQuIW",
    "outputId": "bdad725a-9b11-4354-d2fd-b6e8b80b2544"
   },
   "outputs": [],
   "source": [
    "from stellargraph.layer import DeepGraphCNN\n",
    "from tensorflow.keras import Model\n",
    "from tensorflow.keras.optimizers import Adam\n",
    "from tensorflow.keras.layers import Dense, Conv1D, MaxPool1D, Dropout, Flatten\n",
    "from tensorflow.keras.losses import binary_crossentropy\n",
    "import tensorflow as tf\n",
    "\n",
    "k = 35  # the number of rows for the output tensor\n",
    "layer_sizes = [32, 32, 32, 1]\n",
    "\n",
    "dgcnn_model = DeepGraphCNN(\n",
    "    layer_sizes=layer_sizes,\n",
    "    activations=[\"tanh\", \"tanh\", \"tanh\", \"tanh\"],\n",
    "    k=k,\n",
    "    bias=False,\n",
    "    generator=generator,\n",
    ")\n",
    "x_inp, x_out = dgcnn_model.in_out_tensors()\n",
    "\n",
    "\n",
    "x_out = Conv1D(filters=16, kernel_size=sum(layer_sizes), strides=sum(layer_sizes))(x_out)\n",
    "x_out = MaxPool1D(pool_size=2)(x_out)\n",
    "\n",
    "x_out = Conv1D(filters=32, kernel_size=5, strides=1)(x_out)\n",
    "\n",
    "x_out = Flatten()(x_out)\n",
    "\n",
    "x_out = Dense(units=128, activation=\"relu\")(x_out)\n",
    "x_out = Dropout(rate=0.5)(x_out)\n",
    "\n",
    "predictions = Dense(units=1, activation=\"sigmoid\")(x_out)"
   ]
  },
  {
   "cell_type": "markdown",
   "metadata": {
    "id": "ZOj3TjPIN4ev"
   },
   "source": [
    "Let's now compile the model"
   ]
  },
  {
   "cell_type": "code",
   "execution_count": null,
   "metadata": {
    "executionInfo": {
     "elapsed": 753,
     "status": "ok",
     "timestamp": 1611483738257,
     "user": {
      "displayName": "Aldo Marzullo",
      "photoUrl": "https://lh3.googleusercontent.com/a-/AOh14GjBD_mZewcZ8LCqkD20Nku4DR5OCGFqYkxawoUjgg=s64",
      "userId": "17245895923239449231"
     },
     "user_tz": -60
    },
    "id": "clWqCmfLJjBF"
   },
   "outputs": [],
   "source": [
    "model = Model(inputs=x_inp, outputs=predictions)\n",
    "model.compile(optimizer=Adam(lr=0.0001), loss=binary_crossentropy, metrics=[\"acc\"])"
   ]
  },
  {
   "cell_type": "markdown",
   "metadata": {
    "id": "4ZnhaSMDN9ii"
   },
   "source": [
    "We use 70% of the dataset for training and the remaining for test"
   ]
  },
  {
   "cell_type": "code",
   "execution_count": null,
   "metadata": {
    "executionInfo": {
     "elapsed": 646,
     "status": "ok",
     "timestamp": 1611483741082,
     "user": {
      "displayName": "Aldo Marzullo",
      "photoUrl": "https://lh3.googleusercontent.com/a-/AOh14GjBD_mZewcZ8LCqkD20Nku4DR5OCGFqYkxawoUjgg=s64",
      "userId": "17245895923239449231"
     },
     "user_tz": -60
    },
    "id": "j3Hr6_FyJ5m4"
   },
   "outputs": [],
   "source": [
    "from sklearn import model_selection\n",
    "train_graphs, test_graphs = model_selection.train_test_split(\n",
    "    graph_labels, test_size=.3, stratify=graph_labels,\n",
    ")"
   ]
  },
  {
   "cell_type": "code",
   "execution_count": null,
   "metadata": {
    "executionInfo": {
     "elapsed": 4140,
     "status": "ok",
     "timestamp": 1611483746974,
     "user": {
      "displayName": "Aldo Marzullo",
      "photoUrl": "https://lh3.googleusercontent.com/a-/AOh14GjBD_mZewcZ8LCqkD20Nku4DR5OCGFqYkxawoUjgg=s64",
      "userId": "17245895923239449231"
     },
     "user_tz": -60
    },
    "id": "p9_2ybPqJ-3B"
   },
   "outputs": [],
   "source": [
    "gen = PaddedGraphGenerator(graphs=graphs)\n",
    "\n",
    "train_gen = gen.flow(\n",
    "    list(train_graphs.index - 1),\n",
    "    targets=train_graphs.values,\n",
    "    batch_size=50,\n",
    "    symmetric_normalization=False,\n",
    ")\n",
    "\n",
    "test_gen = gen.flow(\n",
    "    list(test_graphs.index - 1),\n",
    "    targets=test_graphs.values,\n",
    "    batch_size=1,\n",
    "    symmetric_normalization=False,\n",
    ")"
   ]
  },
  {
   "cell_type": "markdown",
   "metadata": {
    "id": "wCNr8_IsOIbQ"
   },
   "source": [
    "It's now time for training!"
   ]
  },
  {
   "cell_type": "code",
   "execution_count": null,
   "metadata": {
    "colab": {
     "base_uri": "https://localhost:8080/"
    },
    "executionInfo": {
     "elapsed": 314928,
     "status": "ok",
     "timestamp": 1611484063817,
     "user": {
      "displayName": "Aldo Marzullo",
      "photoUrl": "https://lh3.googleusercontent.com/a-/AOh14GjBD_mZewcZ8LCqkD20Nku4DR5OCGFqYkxawoUjgg=s64",
      "userId": "17245895923239449231"
     },
     "user_tz": -60
    },
    "id": "h3b2BNJUKKas",
    "outputId": "e3c8b8e7-0beb-4479-9829-793f781e1a03"
   },
   "outputs": [],
   "source": [
    "epochs = 100\n",
    "history = model.fit(\n",
    "    train_gen, epochs=epochs, verbose=1, validation_data=test_gen, shuffle=True,\n",
    ")"
   ]
  },
  {
   "cell_type": "markdown",
   "metadata": {
    "id": "T1lM0v05_zJe"
   },
   "source": [
    "## Supervised node representation learning using GraphSAGE"
   ]
  },
  {
   "cell_type": "code",
   "execution_count": null,
   "metadata": {
    "colab": {
     "base_uri": "https://localhost:8080/",
     "height": 51
    },
    "executionInfo": {
     "elapsed": 1015,
     "status": "ok",
     "timestamp": 1611495932298,
     "user": {
      "displayName": "Aldo Marzullo",
      "photoUrl": "https://lh3.googleusercontent.com/a-/AOh14GjBD_mZewcZ8LCqkD20Nku4DR5OCGFqYkxawoUjgg=s64",
      "userId": "17245895923239449231"
     },
     "user_tz": -60
    },
    "id": "gERK1Zen_xL7",
    "outputId": "e4ccdd7e-a591-4971-aa3c-45c3d63db1c4"
   },
   "outputs": [],
   "source": [
    "from stellargraph import datasets\n",
    "from IPython.display import display, HTML\n",
    "\n",
    "dataset = datasets.Cora()\n",
    "display(HTML(dataset.description))\n",
    "G, node_subjects = dataset.load()"
   ]
  },
  {
   "cell_type": "markdown",
   "metadata": {
    "id": "xrkhfxtenQ4i"
   },
   "source": [
    "Let's split the dataset into training and testing set"
   ]
  },
  {
   "cell_type": "code",
   "execution_count": null,
   "metadata": {
    "executionInfo": {
     "elapsed": 451,
     "status": "ok",
     "timestamp": 1611495932302,
     "user": {
      "displayName": "Aldo Marzullo",
      "photoUrl": "https://lh3.googleusercontent.com/a-/AOh14GjBD_mZewcZ8LCqkD20Nku4DR5OCGFqYkxawoUjgg=s64",
      "userId": "17245895923239449231"
     },
     "user_tz": -60
    },
    "id": "RZsS_u7v_5vc"
   },
   "outputs": [],
   "source": [
    "from sklearn.model_selection import train_test_split\n",
    "train_subjects, test_subjects = train_test_split(\n",
    "    node_subjects, train_size=0.1, test_size=None, stratify=node_subjects\n",
    ")"
   ]
  },
  {
   "cell_type": "markdown",
   "metadata": {
    "id": "mm4-Me5GnVce"
   },
   "source": [
    "Since we are performing a categorical classification, it is useful to represent each categorical label in its one-hot encoding"
   ]
  },
  {
   "cell_type": "code",
   "execution_count": null,
   "metadata": {
    "executionInfo": {
     "elapsed": 674,
     "status": "ok",
     "timestamp": 1611495935403,
     "user": {
      "displayName": "Aldo Marzullo",
      "photoUrl": "https://lh3.googleusercontent.com/a-/AOh14GjBD_mZewcZ8LCqkD20Nku4DR5OCGFqYkxawoUjgg=s64",
      "userId": "17245895923239449231"
     },
     "user_tz": -60
    },
    "id": "dP-sXgekAFOY"
   },
   "outputs": [],
   "source": [
    "from sklearn import preprocessing, feature_extraction, model_selection\n",
    "target_encoding = preprocessing.LabelBinarizer()\n",
    "train_targets = target_encoding.fit_transform(train_subjects)\n",
    "test_targets = target_encoding.transform(test_subjects)"
   ]
  },
  {
   "cell_type": "markdown",
   "metadata": {
    "id": "KJSpM4cnnfUN"
   },
   "source": [
    "It's now time for creating the mdoel. It will be composed by two GraphSAGE layers followed by a Dense layer with softmax activation for classification"
   ]
  },
  {
   "cell_type": "code",
   "execution_count": null,
   "metadata": {
    "executionInfo": {
     "elapsed": 670,
     "status": "ok",
     "timestamp": 1611495965440,
     "user": {
      "displayName": "Aldo Marzullo",
      "photoUrl": "https://lh3.googleusercontent.com/a-/AOh14GjBD_mZewcZ8LCqkD20Nku4DR5OCGFqYkxawoUjgg=s64",
      "userId": "17245895923239449231"
     },
     "user_tz": -60
    },
    "id": "BP5G49akANxy"
   },
   "outputs": [],
   "source": [
    "from stellargraph.mapper import GraphSAGENodeGenerator\n",
    "batch_size = 50\n",
    "num_samples = [10, 5, 7]\n",
    "generator = GraphSAGENodeGenerator(G, batch_size, num_samples)"
   ]
  },
  {
   "cell_type": "code",
   "execution_count": null,
   "metadata": {
    "executionInfo": {
     "elapsed": 657,
     "status": "ok",
     "timestamp": 1611496006881,
     "user": {
      "displayName": "Aldo Marzullo",
      "photoUrl": "https://lh3.googleusercontent.com/a-/AOh14GjBD_mZewcZ8LCqkD20Nku4DR5OCGFqYkxawoUjgg=s64",
      "userId": "17245895923239449231"
     },
     "user_tz": -60
    },
    "id": "qkgF2VvWAlct"
   },
   "outputs": [],
   "source": [
    "from stellargraph.layer import GraphSAGE\n",
    "from tensorflow.keras.layers import Dense\n",
    "\n",
    "graphsage_model = GraphSAGE(\n",
    "    layer_sizes=[32, 32, 16], generator=generator, bias=True, dropout=0.6,\n",
    ")"
   ]
  },
  {
   "cell_type": "code",
   "execution_count": null,
   "metadata": {
    "executionInfo": {
     "elapsed": 731,
     "status": "ok",
     "timestamp": 1611496008161,
     "user": {
      "displayName": "Aldo Marzullo",
      "photoUrl": "https://lh3.googleusercontent.com/a-/AOh14GjBD_mZewcZ8LCqkD20Nku4DR5OCGFqYkxawoUjgg=s64",
      "userId": "17245895923239449231"
     },
     "user_tz": -60
    },
    "id": "S_g_yOhjAovl"
   },
   "outputs": [],
   "source": [
    "x_inp, x_out = graphsage_model.in_out_tensors()\n",
    "prediction = Dense(units=train_targets.shape[1], activation=\"softmax\")(x_out)"
   ]
  },
  {
   "cell_type": "code",
   "execution_count": null,
   "metadata": {
    "executionInfo": {
     "elapsed": 655,
     "status": "ok",
     "timestamp": 1611496039838,
     "user": {
      "displayName": "Aldo Marzullo",
      "photoUrl": "https://lh3.googleusercontent.com/a-/AOh14GjBD_mZewcZ8LCqkD20Nku4DR5OCGFqYkxawoUjgg=s64",
      "userId": "17245895923239449231"
     },
     "user_tz": -60
    },
    "id": "HeMlOuDnA9B_"
   },
   "outputs": [],
   "source": [
    "from tensorflow.keras.losses import categorical_crossentropy\n",
    "from keras.models import Model\n",
    "from keras.optimizers import Adam\n",
    "\n",
    "model = Model(inputs=x_inp, outputs=prediction)\n",
    "model.compile(optimizer=Adam(lr=0.003), loss=categorical_crossentropy, metrics=[\"acc\"],)"
   ]
  },
  {
   "cell_type": "markdown",
   "metadata": {
    "id": "MqF4EWFbnwU9"
   },
   "source": [
    "We will use the flow function of the generator for feeding the model with the train and the test set."
   ]
  },
  {
   "cell_type": "code",
   "execution_count": null,
   "metadata": {
    "executionInfo": {
     "elapsed": 1668,
     "status": "ok",
     "timestamp": 1611496044688,
     "user": {
      "displayName": "Aldo Marzullo",
      "photoUrl": "https://lh3.googleusercontent.com/a-/AOh14GjBD_mZewcZ8LCqkD20Nku4DR5OCGFqYkxawoUjgg=s64",
      "userId": "17245895923239449231"
     },
     "user_tz": -60
    },
    "id": "x-5xmzRqBDCX"
   },
   "outputs": [],
   "source": [
    "train_gen = generator.flow(train_subjects.index, train_targets, shuffle=True)\n",
    "test_gen = generator.flow(test_subjects.index, test_targets)"
   ]
  },
  {
   "cell_type": "markdown",
   "metadata": {
    "id": "952-5V6Xn45o"
   },
   "source": [
    "Finally, let's train the model!"
   ]
  },
  {
   "cell_type": "code",
   "execution_count": null,
   "metadata": {
    "colab": {
     "base_uri": "https://localhost:8080/"
    },
    "executionInfo": {
     "elapsed": 215740,
     "status": "ok",
     "timestamp": 1611496265764,
     "user": {
      "displayName": "Aldo Marzullo",
      "photoUrl": "https://lh3.googleusercontent.com/a-/AOh14GjBD_mZewcZ8LCqkD20Nku4DR5OCGFqYkxawoUjgg=s64",
      "userId": "17245895923239449231"
     },
     "user_tz": -60
    },
    "id": "sS3vnQ_HBZxK",
    "outputId": "29ab3be2-410e-4f6c-dbb6-6397641ef036"
   },
   "outputs": [],
   "source": [
    "history = model.fit(train_gen, epochs=20, validation_data=test_gen, verbose=2, shuffle=False)"
   ]
  }
 ],
 "metadata": {
  "colab": {
   "authorship_tag": "ABX9TyPz5JRYvXqH50rX95tddtHr",
   "collapsed_sections": [],
   "name": "Supervised_GraphML.ipynb",
   "provenance": []
  },
  "kernelspec": {
   "display_name": "Python 3",
   "language": "python",
   "name": "python3"
  },
  "language_info": {
   "codemirror_mode": {
    "name": "ipython",
    "version": 3
   },
   "file_extension": ".py",
   "mimetype": "text/x-python",
   "name": "python",
   "nbconvert_exporter": "python",
   "pygments_lexer": "ipython3",
   "version": "3.6.8"
  }
 },
 "nbformat": 4,
 "nbformat_minor": 1
}
